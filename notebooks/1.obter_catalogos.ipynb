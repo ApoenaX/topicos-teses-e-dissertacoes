{
 "cells": [
  {
   "cell_type": "markdown",
   "metadata": {
    "id": "fpSB0CRZAVRH"
   },
   "source": [
    "<h1 align=\"center\">\n",
    " Obter Catálogo de Teses e Dissertações <br/>\n",
    " <img src=\"https://dadosabertos.capes.gov.br/img/caixa.png\"  alt=\"Dados Capes\"/>\n",
    "</h1>\n",
    "\n",
    "No portal de dados abertos da *CAPES*, há dados sobre os procedimentos realizados e informações sobre os programas de pós-graduação do Brasil. Parte dos dados são fornecidos por coordenadores desses programas através do módulo **Coleta CAPES** disponível na [Plataforma Sucupira](https://sucupira.capes.gov.br/sucupira/).\n",
    "\n",
    "Dentre esses dados, estamos interessados no **Catálogo de Teses e Dissertações** que contém informações sobre as teses e dissertações defendidas nos programas de pós-graduação. Esses dados estão separados em períodos de tempo, atualmente há os seguintes conjuntos: \n",
    "\n",
    "- [[1987 a 2012] Catálogo de Teses e Dissertações - Brasil](https://dadosabertos.capes.gov.br/dataset/1987-a-2012-catalogo-de-teses-e-dissertacoes-brasil)\n",
    "- [[2013 a 2016] Catálogo de Teses e Dissertações - Brasil](https://dadosabertos.capes.gov.br/dataset/catalogo-de-teses-e-dissertacoes-de-2013-a-2016)\n",
    "- [[2017 a 2020] Catálogo de Teses e Dissertações - Brasil](https://dadosabertos.capes.gov.br/dataset/2017-2020-catalogo-de-teses-e-dissertacoes-da-capes)\n",
    "- [[2021 a 2024] Catálogo de Teses e Dissertações - Brasil](https://dadosabertos.capes.gov.br/dataset/2021-a-2024-catalogo-de-teses-e-dissertacoes-brasil)\n",
    "\n",
    "Nosso objetivo é realizar o download dessas tabelas, unir e padronizar as colunas de dados em comum. "
   ]
  },
  {
   "cell_type": "markdown",
   "metadata": {
    "id": "61d-83CxEYVZ"
   },
   "source": [
    "## Acessando os dados\n",
    "\n",
    "Podemos consultar esses dados através da [API do CKAN](https://docs.ckan.org/en/latest/api/index.html), por exemplo, a URL abaixo lista todos os grupos disponíveis:\n",
    "\n",
    "https://dadosabertos.capes.gov.br/api/3/action/group_list\n",
    "\n",
    "Para acessar informações de um grupo específico, como teses e dissertações, usamos o `group_show?id=identificador-grupo` e  `include_datasets=true` para listar as base de dados.\n",
    "\n",
    "https://dadosabertos.capes.gov.br/api/3/action/group_show?id=catalogo-de-teses-e-dissertacoes-brasil&include_datasets=true\n",
    "\n",
    "\n",
    "Para compreender mais como usar o *CKAN API*, acesse o [API guide](https://docs.ckan.org/en/latest/api/index.html)."
   ]
  },
  {
   "cell_type": "code",
   "execution_count": null,
   "metadata": {
    "id": "Yai0TD5II4jN"
   },
   "outputs": [],
   "source": [
    "import requests\n",
    "import pandas as pd\n",
    "from tqdm.auto import tqdm\n",
    "from pathlib import Path"
   ]
  },
  {
   "cell_type": "code",
   "execution_count": null,
   "metadata": {},
   "outputs": [],
   "source": [
    "# diretório onde será salvo os dados\n",
    "workdir = Path(\"../data\")\n",
    "\n",
    "# cria o diretório se não existir\n",
    "if not workdir.exists():\n",
    "    workdir.mkdir()"
   ]
  },
  {
   "cell_type": "markdown",
   "metadata": {
    "id": "eFZi2zKwFWrf"
   },
   "source": [
    "### Download dos dados\n",
    "\n",
    "Para acessar a resposta da _CKAN API_ utilizamos a biblioteca `requests` e extraímos a variável _result_."
   ]
  },
  {
   "cell_type": "code",
   "execution_count": null,
   "metadata": {
    "id": "_TZlH8-BI9Ea"
   },
   "outputs": [],
   "source": [
    "# realizar a requisição HTTP\n",
    "response = requests.get(\n",
    "    \"https://dadosabertos.capes.gov.br/api/3/action/package_search?\",\n",
    "    params={\n",
    "        \"q\": \"groups:catalogo-de-teses-e-dissertacoes-brasil\",\n",
    "        \"fl\": \"id,name,metadata_created,metadata_modified, res_url\",\n",
    "    },\n",
    ")\n",
    "\n",
    "# se a requisiçao foi realizada com sucesso (status code = 200)\n",
    "assert response.status_code == requests.codes.ok\n",
    "\n",
    "# atribuir json da resposta a um dicionário\n",
    "response_dict = response.json()\n",
    "\n",
    "# verificar se a requisição foi bem sucedida\n",
    "assert response_dict[\"success\"] is True\n",
    "\n",
    "# extrair os resultados\n",
    "results = response_dict.get(\"result\", {}).get(\"results\", [])"
   ]
  },
  {
   "cell_type": "markdown",
   "metadata": {
    "id": "50kYSd8yFp-9"
   },
   "source": [
    "No _json_ retornado, estamos interessados no campo `res_url` que contém o link para baixar os dados.  Extraímos os links que estão em formato `.csv` para realizar o download."
   ]
  },
  {
   "cell_type": "code",
   "execution_count": null,
   "metadata": {},
   "outputs": [],
   "source": [
    "csv_urls = [\n",
    "    url\n",
    "    for result in results\n",
    "    for url in result.get(\"res_url\", [])\n",
    "    if url.endswith(\".csv\")\n",
    "]\n",
    "\n",
    "print(f\"Encontrados {len(csv_urls)} arquivos CSV\")"
   ]
  },
  {
   "cell_type": "markdown",
   "metadata": {},
   "source": [
    "Usamos a biblioteca `requests` para realizar o download dos arquivos, o código abaixo realiza o download dos arquivos e salva na pasta `data`. O processo é demorado e varia de acordo com a velocidade da internet e tamanho dos arquivos. Alguns erros podem ocorrer, como por exemplo, o servidor não responder ou a conexão cair. Nesses casos, basta rodar o código novamente que ele continua o download do arquivo que parou."
   ]
  },
  {
   "cell_type": "code",
   "execution_count": null,
   "metadata": {},
   "outputs": [],
   "source": [
    "for url in tqdm(csv_urls):\n",
    "\n",
    "    filename = url.split(\"/\")[-1]\n",
    "    filepath = workdir / filename\n",
    "\n",
    "    if filepath.exists():\n",
    "        print(f\"Arquivo {filename} já existe em {filepath}\")\n",
    "        continue\n",
    "\n",
    "    response = requests.get(url)\n",
    "    assert response.status_code == requests.codes.ok\n",
    "\n",
    "    with open(filepath, \"wb\") as f:\n",
    "        f.write(response.content)\n",
    "\n",
    "    print(f\"Arquivo {filename} salvo com sucesso em {filepath}\")"
   ]
  },
  {
   "cell_type": "markdown",
   "metadata": {
    "id": "MF-7XB8ZhsbR"
   },
   "source": [
    "### Agrupar dados por conjunto\n",
    "\n",
    "Há quatro grupos de dados de teses e dissertações como mencionamos no começo desse notebook. Ao analisarmos os metadados contido no portal de dados abertos observamos que os conjuntos de 2013 a 2016, 2017 a 2020 e 2021 a 2024 possuem o mesmo tipo de dados. Com base nisso, vamos agrupar os arquivos CSVs em dois grandes arquivos:\n",
    "\n",
    "- `catalogo-de-teses-e-dissertacoes-de-1987-a-2012.parquet` - contempla todos os dados coletados no período de 1987 a 2012\n",
    "- `catalogo-de-teses-e-dissertacoes-de-2013-a-2024.parquet` - contempla todos os dados coletados no período de 2013 a 2024"
   ]
  },
  {
   "cell_type": "code",
   "execution_count": null,
   "metadata": {},
   "outputs": [],
   "source": [
    "files_list = list(workdir.glob(\"*.csv\"))\n",
    "\n",
    "thesis_before_2013 = pd.concat(\n",
    "    pd.read_csv(file, sep=\";\", encoding=\"latin1\", low_memory=False)\n",
    "    for file in files_list\n",
    "    if file.name.startswith(\"dados_\")\n",
    ")\n",
    "\n",
    "print(f\"Total de registros antes de 2013: {thesis_before_2013.shape[0]:,}\")\n",
    "\n",
    "thesis_since_2013 = pd.concat(\n",
    "    pd.read_csv(file, sep=\";\", encoding=\"latin1\", low_memory=False)\n",
    "    for file in files_list\n",
    "    if not file.name.startswith(\"dados_\")\n",
    ")\n",
    "\n",
    "print(f\"Total de registros a partir de 2013: {thesis_since_2013.shape[0]:,}\")"
   ]
  },
  {
   "cell_type": "markdown",
   "metadata": {},
   "source": [
    "Antes de salvar como *parquet*, fazemos um pré-tratamento nas colunas `CD_SUBAREA_CONHECIMENTO` e `CD_ESPECIALIDADE`. Essas colunas tem cadastros com valor \"NI\" que provavelmente significa \"Não Informado\" e valores preenchidos com nulos. Inicialmente, vamos apenas substituir os valores nulos por *strings* vazias."
   ]
  },
  {
   "cell_type": "code",
   "execution_count": null,
   "metadata": {},
   "outputs": [],
   "source": [
    "thesis_before_2013.to_parquet(\n",
    "    workdir / \"catalogo-de-teses-e-dissertacoes-de-1987-a-2012\"\n",
    ")\n",
    "thesis_since_2013[\"CD_SUBAREA_CONHECIMENTO\"] = (\n",
    "    thesis_since_2013[\"CD_SUBAREA_CONHECIMENTO\"].fillna(\"\").astype(str)\n",
    ")\n",
    "thesis_since_2013[\"CD_ESPECIALIDADE\"] = (\n",
    "    thesis_since_2013[\"CD_ESPECIALIDADE\"].fillna(\"\").astype(str)\n",
    ")\n",
    "thesis_since_2013.to_parquet(\n",
    "    workdir / \"catalogo-de-teses-e-dissertacoes-de-2013-a-2024.parquet\"\n",
    ")"
   ]
  },
  {
   "cell_type": "markdown",
   "metadata": {
    "id": "ySbEkwjIxKPM"
   },
   "source": [
    "## Padronização de colunas\n",
    "\n",
    "As informações armazenadas antes de 2013 e a partir de 2013 sobre as teses e dissertações possuem padrões de colunas diferentes, vamos selecionar apenas as colunas em comum e renomeá-las para possuírem os mesmos nomes. Com base nas informações nos metadados definimos as seguintes informações em comum:\n",
    "\n",
    "\n",
    "- AN_BASE\n",
    "- CD_PROGRAMA\n",
    "- NM_REGIAO\n",
    "- SG_UF_IES\n",
    "- SG_ENTIDADE_ENSINO\n",
    "- NM_ENTIDADE_ENSINO\n",
    "- NM_PROGRAMA\n",
    "- CD_GRANDE_AREA_CONHECIMENTO\n",
    "- NM_GRANDE_AREA_CONHECIMENTO\n",
    "- CD_AREA_CONHECIMENTO\n",
    "- NM_AREA_CONHECIMENTO\n",
    "- NM_AREA_AVALIACAO\n",
    "- NM_DISCENTE\n",
    "- NM_PRODUCAO\n",
    "- NM_GRAU_ACADEMICO\n",
    "- DS_PALAVRA_CHAVE\n",
    "- NR_VOLUME\n",
    "- NR_PAGINAS\n",
    "- NM_IDIOMA\n",
    "- DS_RESUMO\n",
    "- NM_LINHA_PESQUISA\n",
    "- DS_URL_TEXTO_COMPLETO"
   ]
  },
  {
   "cell_type": "code",
   "execution_count": null,
   "metadata": {},
   "outputs": [],
   "source": [
    "common = [\n",
    "    \"AN_BASE\",\n",
    "    \"CD_PROGRAMA\",\n",
    "    \"NM_REGIAO\",\n",
    "    \"SG_UF_IES\",\n",
    "    \"SG_ENTIDADE_ENSINO\",\n",
    "    \"NM_ENTIDADE_ENSINO\",\n",
    "    \"NM_PROGRAMA\",\n",
    "    \"CD_GRANDE_AREA_CONHECIMENTO\",\n",
    "    \"NM_GRANDE_AREA_CONHECIMENTO\",\n",
    "    \"CD_AREA_CONHECIMENTO\",\n",
    "    \"NM_AREA_CONHECIMENTO\",\n",
    "    \"NM_AREA_AVALIACAO\",\n",
    "    \"NM_DISCENTE\",\n",
    "    \"NM_PRODUCAO\",\n",
    "    \"NM_GRAU_ACADEMICO\",\n",
    "    \"DS_PALAVRA_CHAVE\",\n",
    "    \"NR_VOLUME\",\n",
    "    \"NR_PAGINAS\",\n",
    "    \"NM_IDIOMA\",\n",
    "    \"DS_RESUMO\",\n",
    "    \"NM_LINHA_PESQUISA\",\n",
    "    \"DS_URL_TEXTO_COMPLETO\",\n",
    "]\n",
    "\n",
    "thesis_since_2013 = thesis_since_2013[common]"
   ]
  },
  {
   "cell_type": "code",
   "execution_count": null,
   "metadata": {
    "id": "urTTu-hSJIY_"
   },
   "outputs": [],
   "source": [
    "thesis_before_2013.rename(\n",
    "    columns={\n",
    "        \"AnoBase\": \"AN_BASE\",\n",
    "        \"CodigoPrograma\": \"CD_PROGRAMA\",\n",
    "        \"Regiao\": \"NM_REGIAO\",\n",
    "        \"Uf\": \"SG_UF_IES\",\n",
    "        \"SiglaIes\": \"SG_ENTIDADE_ENSINO\",\n",
    "        \"NomeIes\": \"NM_ENTIDADE_ENSINO\",\n",
    "        \"NomePrograma\": \"NM_PROGRAMA\",\n",
    "        \"GrandeAreaCodigo\": \"CD_GRANDE_AREA_CONHECIMENTO\",\n",
    "        \"GrandeAreaDescricao\": \"NM_GRANDE_AREA_CONHECIMENTO\",\n",
    "        \"AreaConhecimentoCodigo\": \"CD_AREA_CONHECIMENTO\",\n",
    "        \"AreaConhecimento\": \"NM_AREA_CONHECIMENTO\",\n",
    "        \"AreaAvaliacao\": \"NM_AREA_AVALIACAO\",\n",
    "        \"Autor\": \"NM_DISCENTE\",\n",
    "        \"TituloTese\": \"NM_PRODUCAO\",\n",
    "        \"Nivel\": \"NM_GRAU_ACADEMICO\",\n",
    "        \"PalavrasChave\": \"DS_PALAVRA_CHAVE\",\n",
    "        \"Volume\": \"NR_VOLUME\",\n",
    "        \"NumeroPaginas\": \"NR_PAGINAS\",\n",
    "        \"Idioma\": \"NM_IDIOMA\",\n",
    "        \"ResumoTese\": \"DS_RESUMO\",\n",
    "        \"LinhaPesquisa\": \"NM_LINHA_PESQUISA\",\n",
    "        \"URLTextoCompleto\": \"DS_URL_TEXTO_COMPLETO\",\n",
    "    },\n",
    "    inplace=True,\n",
    ")\n",
    "\n",
    "thesis_before_2013 = thesis_before_2013[common]"
   ]
  },
  {
   "cell_type": "markdown",
   "metadata": {
    "id": "hfRRQxvdCC0h"
   },
   "source": [
    "Por fim, realizamos o merge de ambos os conjuntos de dados em um grande arquivo parquet chamado `catalogo-de-teses-e-dissertacoes.parquet`."
   ]
  },
  {
   "cell_type": "code",
   "execution_count": null,
   "metadata": {},
   "outputs": [],
   "source": [
    "thesis = pd.concat([thesis_before_2013, thesis_since_2013], ignore_index=True)"
   ]
  },
  {
   "cell_type": "code",
   "execution_count": null,
   "metadata": {},
   "outputs": [],
   "source": [
    "thesis[\"NR_VOLUME\"] = (\n",
    "    thesis[\"NR_VOLUME\"].fillna(\"\").astype(str)\n",
    ")  # preencher valores nulos com string vazia\n",
    "thesis.to_parquet(workdir / \"catalogo-de-teses-e-dissertacoes.parquet\")"
   ]
  }
 ],
 "metadata": {
  "colab": {
   "collapsed_sections": [
    "eFZi2zKwFWrf",
    "MF-7XB8ZhsbR"
   ],
   "name": "1-download metadados.ipynb",
   "provenance": []
  },
  "kernelspec": {
   "display_name": "Python 3",
   "name": "python3"
  },
  "language_info": {
   "codemirror_mode": {
    "name": "ipython",
    "version": 3
   },
   "file_extension": ".py",
   "mimetype": "text/x-python",
   "name": "python",
   "nbconvert_exporter": "python",
   "pygments_lexer": "ipython3",
   "version": "3.11.8"
  }
 },
 "nbformat": 4,
 "nbformat_minor": 0
}
