{
 "cells": [
  {
   "cell_type": "markdown",
   "metadata": {},
   "source": [
    "# Análise de resumos por grandes áreas do conhecimento"
   ]
  },
  {
   "cell_type": "code",
   "execution_count": null,
   "metadata": {},
   "outputs": [],
   "source": [
    "from pathlib import Path\n",
    "import pandas as pd\n",
    "from tqdm.auto import tqdm\n",
    "import matplotlib.pyplot as plt\n",
    "import seaborn.objects as so\n",
    "from seaborn import axes_style\n",
    "\n",
    "tqdm.pandas()\n",
    "\n",
    "workdir = Path(\"..\")\n",
    "df = pd.read_parquet(\n",
    "    workdir / \"data\" / \"catalogo-de-teses-e-dissertacoes-limpo.parquet\",\n",
    "    columns=[\n",
    "        \"NM_PRODUCAO\",\n",
    "        \"DS_RESUMO\",\n",
    "        \"DS_RESUMO_LIMPO\",\n",
    "        \"CD_GRANDE_AREA_CONHECIMENTO\",\n",
    "        \"NM_GRANDE_AREA_CONHECIMENTO\",\n",
    "    ],\n",
    ")\n",
    "df.shape"
   ]
  },
  {
   "cell_type": "markdown",
   "metadata": {},
   "source": [
    "Antes de começar a análise, vamos fazer uma rápida exploração dos dados. "
   ]
  },
  {
   "cell_type": "code",
   "execution_count": null,
   "metadata": {},
   "outputs": [],
   "source": [
    "# Checa se há divergência entre o nome e o código da grande área de conhecimento\n",
    "df.groupby(\"NM_GRANDE_AREA_CONHECIMENTO\")[\"CD_GRANDE_AREA_CONHECIMENTO\"].nunique()"
   ]
  },
  {
   "cell_type": "markdown",
   "metadata": {},
   "source": [
    "Não há dados nulos nas coluna selecionadas."
   ]
  },
  {
   "cell_type": "code",
   "execution_count": null,
   "metadata": {},
   "outputs": [],
   "source": [
    "df.info()"
   ]
  },
  {
   "cell_type": "markdown",
   "metadata": {},
   "source": [
    "Por fim, exibimos no gráfico abaixo a distribuição de resumos por área do conhecimento. Notamos que a área de Linguística, Letras e Artes é a que tem menos resumos, enquanto a área de Ciências Humanas é a que tem mais resumos."
   ]
  },
  {
   "cell_type": "code",
   "execution_count": null,
   "metadata": {},
   "outputs": [],
   "source": [
    "fig = plt.figure(figsize=(8, 4))\n",
    "\n",
    "thesis_count = df[\"NM_GRANDE_AREA_CONHECIMENTO\"].value_counts().to_frame()\n",
    "\n",
    "(\n",
    "    so.Plot(\n",
    "        thesis_count,\n",
    "        x=\"count\",\n",
    "        y=\"NM_GRANDE_AREA_CONHECIMENTO\",\n",
    "        color=[\"top\"] * 3 + [\"demais\"] * (len(thesis_count) - 3),\n",
    "        text=thesis_count[\"count\"]\n",
    "        .apply(lambda x: f\"{x:,}\")\n",
    "        .str.replace(\",\", \".\")\n",
    "        .values,\n",
    "    )\n",
    "    .add(so.Bar(color=\"#F1F1F1\"), legend=False)\n",
    "    .add(so.Text(color=\"k\", halign=\"right\", offset=-45))\n",
    "    .label(\n",
    "        x=\"\",\n",
    "        y=\"\",\n",
    "    )\n",
    "    .limit(x=(0, thesis_count[\"count\"].max() + 0.2 * thesis_count[\"count\"].max()))\n",
    "    .theme(\n",
    "        {\n",
    "            **axes_style(\"whitegrid\"),\n",
    "            \"grid.linestyle\": \":\",\n",
    "            \"axes.spines.top\": False,\n",
    "            \"axes.spines.right\": False,\n",
    "            \"font.family\": \"sans-serif\",\n",
    "            \"font.size\": 10,\n",
    "        }\n",
    "    )\n",
    "    .on(fig)\n",
    "    .plot()\n",
    ")\n",
    "\n",
    "ax = fig.axes[0]\n",
    "\n",
    "# colore as três primeiras barras\n",
    "for i in range(3):\n",
    "    ax.patches[i].set_color(\"#FFCC02\")\n",
    "\n",
    "# Título e fonte\n",
    "fig.text(\n",
    "    0.12,\n",
    "    1.09,\n",
    "    \"Distribuição por grande área de conhecimento\",\n",
    "    va=\"center\",\n",
    "    fontsize=14,\n",
    "    fontweight=\"bold\",\n",
    "    fontname=\"sans-serif\",\n",
    "    color=\"#333\",\n",
    ")\n",
    "\n",
    "fig.text(\n",
    "    0.12,\n",
    "    1,\n",
    "    \"Ciências humanas, ciências da saúde e ciências sociais aplicadas\\nsão as áreas com mais teses e dissertações defendidas.\",\n",
    "    va=\"center\",\n",
    "    fontsize=12,\n",
    "    fontname=\"sans-serif\",\n",
    "    color=\"#666\",\n",
    ")\n",
    "\n",
    "fig.text(\n",
    "    0.75,\n",
    "    -0.01,\n",
    "    \"Fonte: Catálogo de teses e dissertações da CAPES\",\n",
    "    ha=\"center\",\n",
    "    va=\"center\",\n",
    "    fontsize=10,\n",
    "    fontname=\"sans-serif\",\n",
    "    color=\"#999\",\n",
    ")\n",
    "\n",
    "fig.show()"
   ]
  }
 ],
 "metadata": {
  "kernelspec": {
   "display_name": "teses",
   "language": "python",
   "name": "python3"
  },
  "language_info": {
   "codemirror_mode": {
    "name": "ipython",
    "version": 3
   },
   "file_extension": ".py",
   "mimetype": "text/x-python",
   "name": "python",
   "nbconvert_exporter": "python",
   "pygments_lexer": "ipython3",
   "version": "3.11.8"
  }
 },
 "nbformat": 4,
 "nbformat_minor": 2
}
